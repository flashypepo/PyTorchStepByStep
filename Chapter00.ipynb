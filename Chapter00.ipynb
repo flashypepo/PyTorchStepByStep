{
 "cells": [
  {
   "cell_type": "markdown",
   "metadata": {},
   "source": [
    "# Deep Learning with PyTorch Step-by-Step: A Beginner's Guide"
   ]
  },
  {
   "cell_type": "markdown",
   "metadata": {},
   "source": [
    "# Chapter 0"
   ]
  },
  {
   "cell_type": "code",
   "execution_count": null,
   "metadata": {},
   "outputs": [],
   "source": [
    "# 2021-1227 PP added ignoring warnings\n",
    "# Source: https://blog.softhints.com/turn-off-warnings-jupyterlab-jupyter-notebook/\n",
    "import warnings\n",
    "warnings.filterwarnings('ignore')\n",
    "\n",
    "# matplotlib inline - images\n",
    "%matplotlib inline"
   ]
  },
  {
   "cell_type": "code",
   "execution_count": null,
   "metadata": {},
   "outputs": [],
   "source": [
    "try:\n",
    "    import google.colab\n",
    "    import requests\n",
    "    url = 'https://raw.githubusercontent.com/dvgodoy/PyTorchStepByStep/master/config.py'\n",
    "    r = requests.get(url, allow_redirects=True)\n",
    "    open('config.py', 'wb').write(r.content)    \n",
    "except ModuleNotFoundError:\n",
    "    pass\n",
    "\n",
    "from config import *\n",
    "config_chapter0()\n",
    "# This is needed to render the plots in this chapter\n",
    "from plots.chapter0 import *"
   ]
  },
  {
   "cell_type": "code",
   "execution_count": null,
   "metadata": {},
   "outputs": [],
   "source": [
    "import numpy as np\n",
    "from sklearn.linear_model import LinearRegression\n",
    "from sklearn.preprocessing import StandardScaler"
   ]
  },
  {
   "cell_type": "markdown",
   "metadata": {},
   "source": [
    "# Visualizing Gradient Descent"
   ]
  },
  {
   "cell_type": "markdown",
   "metadata": {},
   "source": [
    "## Model"
   ]
  },
  {
   "cell_type": "markdown",
   "metadata": {},
   "source": [
    "$$\n",
    "\\Large y = b + w x + \\epsilon\n",
    "$$"
   ]
  },
  {
   "cell_type": "markdown",
   "metadata": {},
   "source": [
    "## Data Generation"
   ]
  },
  {
   "cell_type": "markdown",
   "metadata": {},
   "source": [
    "### Synthetic Data Generation"
   ]
  },
  {
   "cell_type": "code",
   "execution_count": null,
   "metadata": {},
   "outputs": [],
   "source": [
    "true_b = 1\n",
    "true_w = 2\n",
    "N = 100\n",
    "\n",
    "# Data Generation\n",
    "np.random.seed(42) # garandeert iedere keer dezelfde randomgetallen!\n",
    "x = np.random.rand(N, 1)\n",
    "epsilon = (.1 * np.random.randn(N, 1))\n",
    "y = true_b + true_w * x + epsilon"
   ]
  },
  {
   "cell_type": "markdown",
   "metadata": {},
   "source": [
    "### Train-Validation-Test Split"
   ]
  },
  {
   "cell_type": "code",
   "execution_count": null,
   "metadata": {},
   "outputs": [],
   "source": [
    "# Shuffles the indices\n",
    "idx = np.arange(N)\n",
    "np.random.shuffle(idx)\n",
    "\n",
    "# Uses first 80 random indices for train\n",
    "train_idx = idx[:int(N*.8)]\n",
    "# Uses the remaining indices for validation\n",
    "val_idx = idx[int(N*.8):]\n",
    "\n",
    "# Generates train and validation sets\n",
    "x_train, y_train = x[train_idx], y[train_idx]\n",
    "x_val, y_val = x[val_idx], y[val_idx]"
   ]
  },
  {
   "cell_type": "code",
   "execution_count": null,
   "metadata": {},
   "outputs": [],
   "source": [
    "figure1(x_train, y_train, x_val, y_val)"
   ]
  },
  {
   "cell_type": "markdown",
   "metadata": {},
   "source": [
    "## Step 0: Random Initialization"
   ]
  },
  {
   "cell_type": "code",
   "execution_count": null,
   "metadata": {},
   "outputs": [],
   "source": [
    "# Step 0 - Initializes parameters \"b\" and \"w\" randomly\n",
    "np.random.seed(42)\n",
    "b = np.random.randn(1)\n",
    "w = np.random.randn(1)\n",
    "\n",
    "print(b, w)"
   ]
  },
  {
   "cell_type": "markdown",
   "metadata": {},
   "source": [
    "## Step 1: Compute Model's Predictions"
   ]
  },
  {
   "cell_type": "code",
   "execution_count": null,
   "metadata": {},
   "outputs": [],
   "source": [
    "# Step 1 - Computes our model's predicted output - forward pass\n",
    "yhat = b + w * x_train"
   ]
  },
  {
   "cell_type": "code",
   "execution_count": null,
   "metadata": {},
   "outputs": [],
   "source": [
    "figure2(x_train, y_train, b, w)\n",
    "#figure2(x_train, yhat, b, w)"
   ]
  },
  {
   "cell_type": "markdown",
   "metadata": {},
   "source": [
    "## Step 2: Compute the Loss"
   ]
  },
  {
   "cell_type": "markdown",
   "metadata": {},
   "source": [
    "$$\n",
    "\\Large error_i = \\hat{y_i} - y_i\n",
    "$$"
   ]
  },
  {
   "cell_type": "code",
   "execution_count": null,
   "metadata": {},
   "outputs": [],
   "source": [
    "figure3(x_train, y_train, b, w)"
   ]
  },
  {
   "cell_type": "markdown",
   "metadata": {},
   "source": [
    "$$\n",
    "\\Large\n",
    "\\begin{aligned}\n",
    "MSE &= \\frac{1}{n} \\sum_{i=1}^n{error_i}^2\n",
    "\\\\\n",
    "&= \\frac{1}{n} \\sum_{i=1}^n{(\\hat{y_i} - y_i)}^2\n",
    "\\\\\n",
    "&= \\frac{1}{n} \\sum_{i=1}^n{(b + w x_i - y_i)}^2\n",
    "\\end{aligned}\n",
    "$$"
   ]
  },
  {
   "cell_type": "code",
   "execution_count": null,
   "metadata": {},
   "outputs": [],
   "source": [
    "# Step 2 - Computing the loss\n",
    "# We are using ALL data points, so this is BATCH gradient\n",
    "# descent. How wrong is our model? That's the error!\n",
    "error = (yhat - y_train)\n",
    "\n",
    "# It is a regression, so it computes mean squared error (MSE)\n",
    "loss = (error ** 2).mean()\n",
    "print(loss)"
   ]
  },
  {
   "cell_type": "markdown",
   "metadata": {},
   "source": [
    "### Loss Surface"
   ]
  },
  {
   "cell_type": "code",
   "execution_count": null,
   "metadata": {},
   "outputs": [],
   "source": [
    "# Reminder:\n",
    "# true_b = 1\n",
    "# true_w = 2\n",
    "\n",
    "# we have to split the ranges in 100 evenly spaced intervals each\n",
    "b_range = np.linspace(true_b - 3, true_b + 3, 101)\n",
    "w_range = np.linspace(true_w - 3, true_w + 3, 101)\n",
    "# meshgrid is a handy function that generates a grid of b and w\n",
    "# values for all combinations\n",
    "bs, ws = np.meshgrid(b_range, w_range)\n",
    "bs.shape, ws.shape"
   ]
  },
  {
   "cell_type": "code",
   "execution_count": null,
   "metadata": {},
   "outputs": [],
   "source": [
    "bs"
   ]
  },
  {
   "cell_type": "code",
   "execution_count": null,
   "metadata": {},
   "outputs": [],
   "source": [
    "sample_x = x_train[0]\n",
    "sample_yhat = bs + ws * sample_x\n",
    "sample_yhat.shape"
   ]
  },
  {
   "cell_type": "code",
   "execution_count": null,
   "metadata": {},
   "outputs": [],
   "source": [
    "all_predictions = np.apply_along_axis(\n",
    "    func1d=lambda x: bs + ws * x, \n",
    "    axis=1, \n",
    "    arr=x_train\n",
    ")\n",
    "all_predictions.shape"
   ]
  },
  {
   "cell_type": "code",
   "execution_count": null,
   "metadata": {},
   "outputs": [],
   "source": [
    "all_labels = y_train.reshape(-1, 1, 1)\n",
    "all_labels.shape"
   ]
  },
  {
   "cell_type": "code",
   "execution_count": null,
   "metadata": {},
   "outputs": [],
   "source": [
    "all_errors = (all_predictions - all_labels)\n",
    "all_errors.shape"
   ]
  },
  {
   "cell_type": "code",
   "execution_count": null,
   "metadata": {},
   "outputs": [],
   "source": [
    "all_losses = (all_errors ** 2).mean(axis=0)\n",
    "all_losses.shape"
   ]
  },
  {
   "cell_type": "code",
   "execution_count": null,
   "metadata": {},
   "outputs": [],
   "source": [
    "figure4(x_train, y_train, b, w, bs, ws, all_losses)"
   ]
  },
  {
   "cell_type": "markdown",
   "metadata": {},
   "source": [
    "### Cross Sections"
   ]
  },
  {
   "cell_type": "code",
   "execution_count": null,
   "metadata": {},
   "outputs": [],
   "source": [
    "figure5(x_train, y_train, b, w, bs, ws, all_losses)"
   ]
  },
  {
   "cell_type": "code",
   "execution_count": null,
   "metadata": {},
   "outputs": [],
   "source": [
    "figure6(x_train, y_train, b, w, bs, ws, all_losses)"
   ]
  },
  {
   "cell_type": "markdown",
   "metadata": {},
   "source": [
    "## Step 3: Compute the Gradients"
   ]
  },
  {
   "cell_type": "markdown",
   "metadata": {},
   "source": [
    "$$\n",
    "\\large\n",
    "\\begin{aligned}\n",
    "\\frac{\\partial{MSE}}{\\partial{b}} = \\frac{\\partial{MSE}}{\\partial{\\hat{y_i}}} \\cdot \\frac{\\partial{\\hat{y_i}}}{\\partial{b}} &= \\frac{1}{n} \\sum_{i=1}^n{2(b + w x_i - y_i)} \n",
    "\\\\\n",
    "&= 2 \\frac{1}{n} \\sum_{i=1}^n{(\\hat{y_i} - y_i)}\n",
    "\\\\\n",
    "\\frac{\\partial{MSE}}{\\partial{w}} = \\frac{\\partial{MSE}}{\\partial{\\hat{y_i}}} \\cdot \\frac{\\partial{\\hat{y_i}}}{\\partial{w}} &= \\frac{1}{n} \\sum_{i=1}^n{2(b + w x_i - y_i) \\cdot x_i} \n",
    "\\\\\n",
    "&= 2 \\frac{1}{n} \\sum_{i=1}^n{x_i (\\hat{y_i} - y_i)}\n",
    "\\end{aligned}\n",
    "$$"
   ]
  },
  {
   "cell_type": "code",
   "execution_count": null,
   "metadata": {},
   "outputs": [],
   "source": [
    "# Step 3 - Computes gradients for both \"b\" and \"w\" parameters\n",
    "b_grad = 2 * error.mean()\n",
    "w_grad = 2 * (x_train * error).mean()\n",
    "print(b_grad, w_grad)"
   ]
  },
  {
   "cell_type": "markdown",
   "metadata": {},
   "source": [
    "### Visualizing the Gradients"
   ]
  },
  {
   "cell_type": "code",
   "execution_count": null,
   "metadata": {},
   "outputs": [],
   "source": [
    "figure7(b, w, bs, ws, all_losses)"
   ]
  },
  {
   "cell_type": "code",
   "execution_count": null,
   "metadata": {},
   "outputs": [],
   "source": [
    "figure8(b, w, bs, ws, all_losses)"
   ]
  },
  {
   "cell_type": "markdown",
   "metadata": {},
   "source": [
    "### Backpropagation"
   ]
  },
  {
   "cell_type": "markdown",
   "metadata": {},
   "source": [
    "## Step 4: Update the Parameters"
   ]
  },
  {
   "cell_type": "markdown",
   "metadata": {},
   "source": [
    "$$\n",
    "\\Large\n",
    "\\begin{aligned}\n",
    "& b = b - \\eta \\frac{\\partial{MSE}}{\\partial{b}}\n",
    "\\\\\n",
    "& w = w - \\eta \\frac{\\partial{MSE}}{\\partial{w}}\n",
    "\\end{aligned}\n",
    "$$"
   ]
  },
  {
   "cell_type": "code",
   "execution_count": null,
   "metadata": {},
   "outputs": [],
   "source": [
    "# Sets learning rate - this is \"eta\" ~ the \"n\" like Greek letter\n",
    "lr = 0.1\n",
    "print(b, w)\n",
    "\n",
    "# Step 4 - Updates parameters using gradients and the \n",
    "# learning rate\n",
    "b = b - lr * b_grad\n",
    "w = w - lr * w_grad\n",
    "\n",
    "print(b, w)"
   ]
  },
  {
   "cell_type": "code",
   "execution_count": null,
   "metadata": {},
   "outputs": [],
   "source": [
    "figure9(x_train, y_train, b, w)"
   ]
  },
  {
   "cell_type": "markdown",
   "metadata": {},
   "source": [
    "### Learning Rate"
   ]
  },
  {
   "cell_type": "code",
   "execution_count": null,
   "metadata": {},
   "outputs": [],
   "source": [
    "manual_grad_b = -2.90\n",
    "manual_grad_w = -1.79\n",
    "\n",
    "np.random.seed(42)\n",
    "b_initial = np.random.randn(1)\n",
    "w_initial = np.random.randn(1)"
   ]
  },
  {
   "cell_type": "markdown",
   "metadata": {},
   "source": [
    "#### Small Learning Rate"
   ]
  },
  {
   "cell_type": "code",
   "execution_count": null,
   "metadata": {},
   "outputs": [],
   "source": [
    "# Learning rate - greek letter \"eta\" that looks like an \"n\"\n",
    "lr = .2\n",
    "\n",
    "figure10(b_initial, w_initial, bs, ws, all_losses, manual_grad_b, manual_grad_w, lr)"
   ]
  },
  {
   "cell_type": "markdown",
   "metadata": {},
   "source": [
    "#### Big Learning Rate"
   ]
  },
  {
   "cell_type": "code",
   "execution_count": null,
   "metadata": {},
   "outputs": [],
   "source": [
    "# Learning rate - greek letter \"eta\" that looks like an \"n\"\n",
    "lr = .8\n",
    "\n",
    "figure10(b_initial, w_initial, bs, ws, all_losses, manual_grad_b, manual_grad_w, lr)"
   ]
  },
  {
   "cell_type": "markdown",
   "metadata": {},
   "source": [
    "#### Very Big Learning Rate"
   ]
  },
  {
   "cell_type": "code",
   "execution_count": null,
   "metadata": {},
   "outputs": [],
   "source": [
    "# Learning rate - greek letter \"eta\" that looks like an \"n\"\n",
    "lr = 1.1\n",
    "\n",
    "figure10(b_initial, w_initial, bs, ws, all_losses, manual_grad_b, manual_grad_w, lr)"
   ]
  },
  {
   "cell_type": "markdown",
   "metadata": {},
   "source": [
    "#### \"Bad\" Feature"
   ]
  },
  {
   "cell_type": "code",
   "execution_count": null,
   "metadata": {},
   "outputs": [],
   "source": [
    "true_b = 1\n",
    "true_w = 2\n",
    "N = 100\n",
    "\n",
    "# Data Generation\n",
    "np.random.seed(42)\n",
    "\n",
    "# We divide w by 10\n",
    "bad_w = true_w / 10\n",
    "# And multiply x by 10\n",
    "bad_x = np.random.rand(N, 1) * 10\n",
    "\n",
    "# So, the net effect on y is zero - it is still\n",
    "# the same as before\n",
    "y = true_b + bad_w * bad_x + (.1 * np.random.randn(N, 1))"
   ]
  },
  {
   "cell_type": "code",
   "execution_count": null,
   "metadata": {},
   "outputs": [],
   "source": [
    "# Generates train and validation sets\n",
    "# It uses the same train_idx and val_idx as before,\n",
    "# but it applies to bad_x\n",
    "bad_x_train, y_train = bad_x[train_idx], y[train_idx]\n",
    "bad_x_val, y_val = bad_x[val_idx], y[val_idx]"
   ]
  },
  {
   "cell_type": "code",
   "execution_count": null,
   "metadata": {},
   "outputs": [],
   "source": [
    "fig, ax = plt.subplots(1, 2, figsize=(12, 6))\n",
    "ax[0].scatter(x_train, y_train)\n",
    "ax[0].set_xlabel('x')\n",
    "ax[0].set_ylabel('y')\n",
    "ax[0].set_ylim([0, 3.1])\n",
    "ax[0].set_title('Train - Original')\n",
    "ax[1].scatter(bad_x_train, y_train, c='k')\n",
    "ax[1].set_xlabel('x')\n",
    "ax[1].set_ylabel('y')\n",
    "ax[1].set_ylim([0, 3.1])\n",
    "ax[1].set_title('Train - \"Bad\"')\n",
    "fig.tight_layout()"
   ]
  },
  {
   "cell_type": "code",
   "execution_count": null,
   "metadata": {},
   "outputs": [],
   "source": [
    "# The ranges CHANGED because we are centering at the new minimum, using \"bad\" data\n",
    "bad_b_range = np.linspace(-2, 4, 101)\n",
    "bad_w_range = np.linspace(-2.8, 3.2, 101)\n",
    "bad_bs, bad_ws = np.meshgrid(bad_b_range, bad_w_range)"
   ]
  },
  {
   "cell_type": "code",
   "execution_count": null,
   "metadata": {},
   "outputs": [],
   "source": [
    "figure14(x_train, y_train, b_initial, w_initial, bad_bs, bad_ws, bad_x_train)"
   ]
  },
  {
   "cell_type": "code",
   "execution_count": null,
   "metadata": {},
   "outputs": [],
   "source": [
    "figure15(x_train, y_train, b_initial, w_initial, bad_bs, bad_ws, bad_x_train)"
   ]
  },
  {
   "cell_type": "markdown",
   "metadata": {},
   "source": [
    "#### Scaling / Standardizing / Normalizing"
   ]
  },
  {
   "cell_type": "markdown",
   "metadata": {},
   "source": [
    "$$\n",
    "\\Large\n",
    "\\overline{X} = \\frac{1}{N}\\sum_{i=1}^N{x_i}\n",
    "\\\\\n",
    "\\Large\n",
    "\\sigma(X) = \\sqrt{\\frac{1}{N}\\sum_{i=1}^N{(x_i - \\overline{X})^2}}\n",
    "\\\\\n",
    "\\Large\n",
    "scaled x_i=\\frac{x_i-\\overline{X}}{\\sigma(X)}\n",
    "$$"
   ]
  },
  {
   "cell_type": "code",
   "execution_count": null,
   "metadata": {},
   "outputs": [],
   "source": [
    "scaler = StandardScaler(with_mean=True, with_std=True)\n",
    "# We use the TRAIN set ONLY to fit the scaler\n",
    "scaler.fit(x_train)\n",
    "\n",
    "# Now we can use the already fit scaler to TRANSFORM\n",
    "# both TRAIN and VALIDATION sets\n",
    "scaled_x_train = scaler.transform(x_train)\n",
    "scaled_x_val = scaler.transform(x_val)"
   ]
  },
  {
   "cell_type": "code",
   "execution_count": null,
   "metadata": {},
   "outputs": [],
   "source": [
    "fig, ax = plt.subplots(1, 3, figsize=(15, 6))\n",
    "ax[0].scatter(x_train, y_train, c='b')\n",
    "ax[0].set_xlabel('x')\n",
    "ax[0].set_ylabel('y')\n",
    "ax[0].set_ylim([0, 3.1])\n",
    "ax[0].set_title('Train - Original')\n",
    "ax[1].scatter(bad_x_train, y_train, c='k')\n",
    "ax[1].set_xlabel('x')\n",
    "ax[1].set_ylabel('y')\n",
    "ax[1].set_ylim([0, 3.1])\n",
    "ax[1].set_title('Train - \"Bad\"')\n",
    "ax[1].label_outer()\n",
    "ax[2].scatter(scaled_x_train, y_train, c='g')\n",
    "ax[2].set_xlabel('x')\n",
    "ax[2].set_ylabel('y')\n",
    "ax[2].set_ylim([0, 3.1])\n",
    "ax[2].set_title('Train - Scaled')\n",
    "ax[2].label_outer()\n",
    "\n",
    "fig.tight_layout()"
   ]
  },
  {
   "cell_type": "code",
   "execution_count": null,
   "metadata": {},
   "outputs": [],
   "source": [
    "# The ranges CHANGED AGAIN because we are centering at the new minimum, using \"scaled\" data\n",
    "scaled_b_range = np.linspace(-1, 5, 101)\n",
    "scaled_w_range = np.linspace(-2.4, 3.6, 101)\n",
    "scaled_bs, scaled_ws = np.meshgrid(scaled_b_range, scaled_w_range)"
   ]
  },
  {
   "cell_type": "code",
   "execution_count": null,
   "metadata": {},
   "outputs": [],
   "source": [
    "figure17(x_train, y_train, scaled_bs, scaled_ws, bad_x_train, scaled_x_train)"
   ]
  },
  {
   "cell_type": "markdown",
   "metadata": {},
   "source": [
    "## Step 5: Rinse and Repeat!"
   ]
  },
  {
   "cell_type": "code",
   "execution_count": null,
   "metadata": {},
   "outputs": [],
   "source": [
    "figure18(x_train, y_train)"
   ]
  },
  {
   "cell_type": "markdown",
   "metadata": {},
   "source": [
    "### The Path of Gradient Descent"
   ]
  },
  {
   "cell_type": "markdown",
   "metadata": {},
   "source": [
    "Even though the plots are important to illustrate the paths, the corresponding code is beyond the scope of this chapter."
   ]
  },
  {
   "cell_type": "markdown",
   "metadata": {},
   "source": [
    "![](images/paths.png)"
   ]
  },
  {
   "cell_type": "code",
   "execution_count": null,
   "metadata": {},
   "outputs": [],
   "source": []
  }
 ],
 "metadata": {
  "kernelspec": {
   "display_name": "PyTorch Step-by-Step",
   "language": "python",
   "name": "pytorchbook"
  },
  "language_info": {
   "codemirror_mode": {
    "name": "ipython",
    "version": 3
   },
   "file_extension": ".py",
   "mimetype": "text/x-python",
   "name": "python",
   "nbconvert_exporter": "python",
   "pygments_lexer": "ipython3",
   "version": "3.11.8"
  }
 },
 "nbformat": 4,
 "nbformat_minor": 4
}
