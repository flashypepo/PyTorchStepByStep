{
 "cells": [
  {
   "cell_type": "markdown",
   "id": "652a777f-e359-43c4-9cba-6786dfeaed45",
   "metadata": {},
   "source": [
    "# Pytorch on Macbook M21 using GPU\n",
    "\n",
    "2023-0320 PP new"
   ]
  },
  {
   "cell_type": "code",
   "execution_count": 1,
   "id": "d16fc64f-b28e-44dc-a21f-9fbec41ba0f2",
   "metadata": {},
   "outputs": [
    {
     "name": "stdout",
     "output_type": "stream",
     "text": [
      "tensor([[0.1162, 0.5664, 0.0890],\n",
      "        [0.7807, 0.8388, 0.4356],\n",
      "        [0.3417, 0.5185, 0.4905],\n",
      "        [0.0973, 0.2382, 0.6661],\n",
      "        [0.5553, 0.6381, 0.5999]])\n"
     ]
    }
   ],
   "source": [
    "import torch\n",
    "x = torch.rand(5, 3)\n",
    "print(x)"
   ]
  },
  {
   "cell_type": "code",
   "execution_count": 2,
   "id": "a751efa9-4a51-4c83-992f-aa6b1c90e5ba",
   "metadata": {},
   "outputs": [
    {
     "data": {
      "text/plain": [
       "'2.1.0.dev20230317'"
      ]
     },
     "execution_count": 2,
     "metadata": {},
     "output_type": "execute_result"
    }
   ],
   "source": [
    "torch.__version__"
   ]
  },
  {
   "cell_type": "markdown",
   "id": "c044c2fb-7c82-4048-99c0-e303737a8125",
   "metadata": {},
   "source": [
    "# Check that MPS is available"
   ]
  },
  {
   "cell_type": "code",
   "execution_count": 8,
   "id": "67a7c032-d718-404b-85f2-3741a6f58ebf",
   "metadata": {},
   "outputs": [
    {
     "name": "stdout",
     "output_type": "stream",
     "text": [
      "tensor([1.], device='mps:0')\n"
     ]
    }
   ],
   "source": [
    "import torch\n",
    "if torch.backends.mps.is_available():\n",
    "    mps_device = torch.device(\"mps\")\n",
    "    x = torch.ones(1, device=mps_device)\n",
    "    print (x)\n",
    "else:\n",
    "    print (\"MPS device not found.\")"
   ]
  },
  {
   "cell_type": "markdown",
   "id": "9a80899f-0afb-4a05-b85b-6357960058fc",
   "metadata": {},
   "source": [
    "### Template for Pytorch model pipeline\n",
    "\n",
    "<pre>\n",
    "if not torch.backends.mps.is_available():\n",
    "    if not torch.backends.mps.is_built():\n",
    "        print(\"MPS not available because the current PyTorch install was not \"\n",
    "              \"built with MPS enabled.\")\n",
    "    else:\n",
    "        print(\"MPS not available because the current MacOS version is not 12.3+ \"\n",
    "              \"and/or you do not have an MPS-enabled device on this machine.\")\n",
    "\n",
    "else:\n",
    "    mps_device = torch.device(\"mps\")\n",
    "\n",
    "    # Create a Tensor directly on the mps device\n",
    "    x = torch.ones(5, device=mps_device)\n",
    "    # Or\n",
    "    x = torch.ones(5, device=\"mps\")\n",
    "\n",
    "    # Any operation happens on the GPU\n",
    "    y = x * 2\n",
    "\n",
    "    # Move your model to mps just like any other device\n",
    "    model = YourFavoriteNet()\n",
    "    model.to(mps_device)\n",
    "\n",
    "    # Now every call runs on the GPU\n",
    "    pred = model(x)\n",
    "</pre>"
   ]
  },
  {
   "cell_type": "markdown",
   "id": "fb0a0b64-805d-45bd-924a-70713483fca1",
   "metadata": {},
   "source": [
    "# Example pytorch running on GPU\n",
    "\n",
    "Sourece: https://towardsdatascience.com/installing-pytorch-on-apple-m1-chip-with-gpu-acceleration-3351dc44d67c\n"
   ]
  },
  {
   "cell_type": "code",
   "execution_count": 7,
   "id": "00ef4b30-55b0-45cf-9cdd-0471ff51795c",
   "metadata": {},
   "outputs": [
    {
     "name": "stdout",
     "output_type": "stream",
     "text": [
      "99 790.294677734375\n",
      "199 547.2564697265625\n",
      "299 380.2076416015625\n",
      "399 265.25970458984375\n",
      "499 186.07542419433594\n",
      "599 131.46795654296875\n",
      "699 93.76862335205078\n",
      "799 67.7149658203125\n",
      "899 49.690696716308594\n",
      "999 37.208709716796875\n",
      "1099 28.55621910095215\n",
      "1199 22.552610397338867\n",
      "1299 18.38306427001953\n",
      "1399 15.484654426574707\n",
      "1499 13.468072891235352\n",
      "1599 12.063867568969727\n",
      "1699 11.085260391235352\n",
      "1799 10.40272045135498\n",
      "1899 9.92630386352539\n",
      "1999 9.593536376953125\n",
      "Result: y = 0.027090219780802727 + 0.8460320830345154 x + -0.0046735117211937904 x^2 + -0.09180717915296555 x^3\n"
     ]
    }
   ],
   "source": [
    "import math\n",
    "\n",
    "dtype = torch.float\n",
    "device = torch.device(\"mps\")\n",
    "\n",
    "# Create random input and output data\n",
    "x = torch.linspace(-math.pi, math.pi, 2000, device=device, dtype=dtype)\n",
    "y = torch.sin(x)\n",
    "\n",
    "# Randomly initialize weights\n",
    "a = torch.randn((), device=device, dtype=dtype)\n",
    "b = torch.randn((), device=device, dtype=dtype)\n",
    "c = torch.randn((), device=device, dtype=dtype)\n",
    "d = torch.randn((), device=device, dtype=dtype)\n",
    "\n",
    "learning_rate = 1e-6\n",
    "for t in range(2000):\n",
    "    # Forward pass: compute predicted y\n",
    "    y_pred = a + b * x + c * x ** 2 + d * x ** 3\n",
    "\n",
    "    # Compute and print loss\n",
    "    loss = (y_pred - y).pow(2).sum().item()\n",
    "    if t % 100 == 99:\n",
    "        print(t, loss)\n",
    "\n",
    "# Backprop to compute gradients of a, b, c, d with respect to loss\n",
    "    grad_y_pred = 2.0 * (y_pred - y)\n",
    "    grad_a = grad_y_pred.sum()\n",
    "    grad_b = (grad_y_pred * x).sum()\n",
    "    grad_c = (grad_y_pred * x ** 2).sum()\n",
    "    grad_d = (grad_y_pred * x ** 3).sum()\n",
    "\n",
    "    # Update weights using gradient descent\n",
    "    a -= learning_rate * grad_a\n",
    "    b -= learning_rate * grad_b\n",
    "    c -= learning_rate * grad_c\n",
    "    d -= learning_rate * grad_d\n",
    "\n",
    "\n",
    "print(f'Result: y = {a.item()} + {b.item()} x + {c.item()} x^2 + {d.item()} x^3')"
   ]
  },
  {
   "cell_type": "code",
   "execution_count": null,
   "id": "8cc70914-01f0-432a-8d0c-4da2fcc8bc96",
   "metadata": {},
   "outputs": [],
   "source": []
  }
 ],
 "metadata": {
  "kernelspec": {
   "display_name": "Python 3.10 (torch v2)",
   "language": "python",
   "name": "torch2"
  },
  "language_info": {
   "codemirror_mode": {
    "name": "ipython",
    "version": 3
   },
   "file_extension": ".py",
   "mimetype": "text/x-python",
   "name": "python",
   "nbconvert_exporter": "python",
   "pygments_lexer": "ipython3",
   "version": "3.10.9"
  }
 },
 "nbformat": 4,
 "nbformat_minor": 5
}
